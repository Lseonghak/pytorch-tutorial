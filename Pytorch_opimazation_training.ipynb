{
 "cells": [
  {
   "cell_type": "markdown",
   "metadata": {},
   "source": [
    "# PyTorch: Optimization & Training"
   ]
  },
  {
   "cell_type": "code",
   "execution_count": 1,
   "metadata": {},
   "outputs": [],
   "source": [
    "import torch\n",
    "import torch.nn as nn\n",
    "import torch.nn.functional as F\n",
    "import torch.optim as optim\n",
    "from torchvision import datasets, transforms\n",
    "\n",
    "import numpy as np"
   ]
  },
  {
   "cell_type": "code",
   "execution_count": 2,
   "metadata": {},
   "outputs": [],
   "source": [
    "seed            = 1 # 난수 고정\n",
    "batch_size      = 64\n",
    "test_batch_size = 64\n",
    "\n",
    "no_cuda = False"
   ]
  },
  {
   "cell_type": "code",
   "execution_count": 3,
   "metadata": {},
   "outputs": [],
   "source": [
    "use_cuda    = not no_cuda and torch.cuda.is_available()\n",
    "device      = torch.device(\"cuda\" if use_cuda else \"cpu\")"
   ]
  },
  {
   "cell_type": "markdown",
   "metadata": {},
   "source": [
    "# Preprocess"
   ]
  },
  {
   "cell_type": "code",
   "execution_count": 4,
   "metadata": {},
   "outputs": [],
   "source": [
    "torch.manual_seed(seed)\n",
    "\n",
    "train_loader = torch.utils.data.DataLoader(\n",
    "    datasets.MNIST('dataset', train=True, download=True,\n",
    "    transform=transforms.Compose([transforms.ToTensor(),\n",
    "    transforms.Normalize((0.1307,), (0.3081,))\n",
    "    ])),\n",
    "    batch_size= batch_size, shuffle= True)\n",
    "\n",
    "test_loader = torch.utils.data.DataLoader(\n",
    "    datasets.MNIST('dataset', train=False,\n",
    "    transform=transforms.Compose([transforms.ToTensor(), transforms.Normalize((0.1307,),(0.3081,))\n",
    "    ])),\n",
    "    batch_size=test_batch_size, shuffle=True)"
   ]
  },
  {
   "cell_type": "code",
   "execution_count": 31,
   "metadata": {},
   "outputs": [
    {
     "name": "stdout",
     "output_type": "stream",
     "text": [
      "938\n",
      "157\n"
     ]
    }
   ],
   "source": [
    "print(len(train_loader))\n",
    "print(len(test_loader))"
   ]
  },
  {
   "cell_type": "markdown",
   "metadata": {},
   "source": [
    "# Model"
   ]
  },
  {
   "cell_type": "code",
   "execution_count": 5,
   "metadata": {},
   "outputs": [],
   "source": [
    "class Net(nn.Module):\n",
    "    def __init__(self):\n",
    "        super(Net, self).__init__()\n",
    "        self.conv1 = nn.Conv2d(1, 20, 5, 1)\n",
    "        self.conv2 = nn.Conv2d(20, 50, 5, 1)\n",
    "        self.fc1 = nn.Linear(4*4*50, 500)\n",
    "        self.fc2 = nn.Linear(500, 10)\n",
    "\n",
    "    def forward(self, x):\n",
    "        x = F.relu(self.conv1(x))\n",
    "        x = F.max_pool2d(x, 2, 2)\n",
    "        x = F.relu(self.conv2(x))\n",
    "        x = F.max_pool2d(x, 2, 2)\n",
    "        x = x.view(-1, 4*4*50)\n",
    "        x = F.relu(self.fc1(x))\n",
    "        x = self.fc2(x)\n",
    "        return F.log_softmax(x, dim=1)\n"
   ]
  },
  {
   "cell_type": "markdown",
   "metadata": {},
   "source": [
    "# Optimization"
   ]
  },
  {
   "cell_type": "code",
   "execution_count": 6,
   "metadata": {},
   "outputs": [],
   "source": [
    "model = Net().to(device)"
   ]
  },
  {
   "cell_type": "code",
   "execution_count": 7,
   "metadata": {},
   "outputs": [],
   "source": [
    "optimizer = optim.SGD(model.parameters(), lr=0.001, momentum=0.5)"
   ]
  },
  {
   "cell_type": "markdown",
   "metadata": {},
   "source": [
    "# Before Training\n",
    "- 학습하기 전에 Model이 Train할 수 있도록 Train Mode로 변환\n",
    "    - Convolution 또는 Linear 뿐만 아니라, DropOut과 추후에 배우게 될 Batch Normalization과 같이 parameter를 가진 Layer들도 학습하기 위해 준비"
   ]
  },
  {
   "cell_type": "code",
   "execution_count": 8,
   "metadata": {},
   "outputs": [
    {
     "name": "stdout",
     "output_type": "stream",
     "text": [
      "torch.Size([20, 1, 5, 5])\n",
      "torch.Size([20])\n",
      "torch.Size([50, 20, 5, 5])\n",
      "torch.Size([50])\n",
      "torch.Size([500, 800])\n",
      "torch.Size([500])\n",
      "torch.Size([10, 500])\n",
      "torch.Size([10])\n"
     ]
    }
   ],
   "source": [
    "# parameter shape 확인\n",
    "params = list(model.parameters())\n",
    "for i in range(8):\n",
    "    print(params[i].size())"
   ]
  },
  {
   "cell_type": "code",
   "execution_count": 9,
   "metadata": {},
   "outputs": [
    {
     "data": {
      "text/plain": [
       "Net(\n",
       "  (conv1): Conv2d(1, 20, kernel_size=(5, 5), stride=(1, 1))\n",
       "  (conv2): Conv2d(20, 50, kernel_size=(5, 5), stride=(1, 1))\n",
       "  (fc1): Linear(in_features=800, out_features=500, bias=True)\n",
       "  (fc2): Linear(in_features=500, out_features=10, bias=True)\n",
       ")"
      ]
     },
     "execution_count": 9,
     "metadata": {},
     "output_type": "execute_result"
    }
   ],
   "source": [
    "model.train()"
   ]
  },
  {
   "cell_type": "code",
   "execution_count": 10,
   "metadata": {},
   "outputs": [],
   "source": [
    "data, target = next(iter(train_loader))"
   ]
  },
  {
   "cell_type": "code",
   "execution_count": 11,
   "metadata": {},
   "outputs": [
    {
     "data": {
      "text/plain": [
       "(torch.Size([64, 1, 28, 28]), torch.Size([64]))"
      ]
     },
     "execution_count": 11,
     "metadata": {},
     "output_type": "execute_result"
    }
   ],
   "source": [
    "data.shape, target.shape"
   ]
  },
  {
   "cell_type": "markdown",
   "metadata": {},
   "source": [
    "- 추출한 Batch 데이터를 cpu 또는 gpu와 같은 device에 compile"
   ]
  },
  {
   "cell_type": "code",
   "execution_count": 12,
   "metadata": {},
   "outputs": [],
   "source": [
    "data, target = data.to(device), target.to(device)"
   ]
  },
  {
   "cell_type": "code",
   "execution_count": 13,
   "metadata": {},
   "outputs": [
    {
     "data": {
      "text/plain": [
       "(torch.Size([64, 1, 28, 28]), torch.Size([64]))"
      ]
     },
     "execution_count": 13,
     "metadata": {},
     "output_type": "execute_result"
    }
   ],
   "source": [
    "data.shape, target.shape"
   ]
  },
  {
   "cell_type": "markdown",
   "metadata": {},
   "source": [
    "- gradients를 clear해서 새로운 최적화 값을 찾기 위해 준비"
   ]
  },
  {
   "cell_type": "code",
   "execution_count": 14,
   "metadata": {},
   "outputs": [
    {
     "data": {
      "text/plain": [
       "<bound method Optimizer.zero_grad of SGD (\n",
       "Parameter Group 0\n",
       "    dampening: 0\n",
       "    lr: 0.001\n",
       "    maximize: False\n",
       "    momentum: 0.5\n",
       "    nesterov: False\n",
       "    weight_decay: 0\n",
       ")>"
      ]
     },
     "execution_count": 14,
     "metadata": {},
     "output_type": "execute_result"
    }
   ],
   "source": [
    "optimizer.zero_grad"
   ]
  },
  {
   "cell_type": "markdown",
   "metadata": {},
   "source": [
    "- 준비한 데이터를 model에 input으로 넣어 output을 얻음"
   ]
  },
  {
   "cell_type": "code",
   "execution_count": 15,
   "metadata": {},
   "outputs": [],
   "source": [
    "output = model(data)"
   ]
  },
  {
   "cell_type": "markdown",
   "metadata": {},
   "source": [
    "- Model에서 예측한 결과를 Loss Function에 넣음\n",
    "  - 여기 예제에서는 Negative Log-Likelihood Loss 라는 Loss Function을 사용\n"
   ]
  },
  {
   "cell_type": "code",
   "execution_count": 16,
   "metadata": {},
   "outputs": [],
   "source": [
    "loss = F.nll_loss(output, target)"
   ]
  },
  {
   "cell_type": "markdown",
   "metadata": {},
   "source": [
    "- Back Propagation을 통해 Gradients를 계산"
   ]
  },
  {
   "cell_type": "code",
   "execution_count": 17,
   "metadata": {},
   "outputs": [],
   "source": [
    "loss.backward()"
   ]
  },
  {
   "cell_type": "markdown",
   "metadata": {},
   "source": [
    "- 계산된 Gradients는 계산된 걸로 끝이 아니라 Parameter에 Update"
   ]
  },
  {
   "cell_type": "code",
   "execution_count": 18,
   "metadata": {},
   "outputs": [],
   "source": [
    "optimizer.step()"
   ]
  },
  {
   "cell_type": "markdown",
   "metadata": {},
   "source": [
    "# Start Training\n",
    "위의 최적화 과정을 반복하여 학습 시작"
   ]
  },
  {
   "cell_type": "code",
   "execution_count": 19,
   "metadata": {},
   "outputs": [],
   "source": [
    "epochs = 10\n",
    "log_interval = 100"
   ]
  },
  {
   "cell_type": "code",
   "execution_count": 20,
   "metadata": {},
   "outputs": [
    {
     "name": "stdout",
     "output_type": "stream",
     "text": [
      "Train Epoch: 1 [ 0/60000 (0%)]\tLoss: 2.320928\n",
      "Train Epoch: 1 [ 6400/60000 (11%)]\tLoss: 2.232707\n",
      "Train Epoch: 1 [ 12800/60000 (21%)]\tLoss: 2.129758\n",
      "Train Epoch: 1 [ 19200/60000 (32%)]\tLoss: 1.999547\n",
      "Train Epoch: 1 [ 25600/60000 (43%)]\tLoss: 1.665924\n",
      "Train Epoch: 1 [ 32000/60000 (53%)]\tLoss: 1.361086\n",
      "Train Epoch: 1 [ 38400/60000 (64%)]\tLoss: 0.853875\n",
      "Train Epoch: 1 [ 44800/60000 (75%)]\tLoss: 0.650861\n",
      "Train Epoch: 1 [ 51200/60000 (85%)]\tLoss: 0.641978\n",
      "Train Epoch: 1 [ 57600/60000 (96%)]\tLoss: 0.798561\n",
      "Test set: Average Loss: 0.4794, Accuracy: 8657/10000 ( 87%)\n",
      "\n",
      "Train Epoch: 2 [ 0/60000 (0%)]\tLoss: 0.447345\n",
      "Train Epoch: 2 [ 6400/60000 (11%)]\tLoss: 0.616485\n",
      "Train Epoch: 2 [ 12800/60000 (21%)]\tLoss: 0.489082\n",
      "Train Epoch: 2 [ 19200/60000 (32%)]\tLoss: 0.375679\n",
      "Train Epoch: 2 [ 25600/60000 (43%)]\tLoss: 0.341564\n",
      "Train Epoch: 2 [ 32000/60000 (53%)]\tLoss: 0.403913\n",
      "Train Epoch: 2 [ 38400/60000 (64%)]\tLoss: 0.412112\n",
      "Train Epoch: 2 [ 44800/60000 (75%)]\tLoss: 0.323291\n",
      "Train Epoch: 2 [ 51200/60000 (85%)]\tLoss: 0.340255\n",
      "Train Epoch: 2 [ 57600/60000 (96%)]\tLoss: 0.551246\n",
      "Test set: Average Loss: 0.3038, Accuracy: 9085/10000 ( 91%)\n",
      "\n",
      "Train Epoch: 3 [ 0/60000 (0%)]\tLoss: 0.291087\n",
      "Train Epoch: 3 [ 6400/60000 (11%)]\tLoss: 0.159083\n",
      "Train Epoch: 3 [ 12800/60000 (21%)]\tLoss: 0.414239\n",
      "Train Epoch: 3 [ 19200/60000 (32%)]\tLoss: 0.312590\n",
      "Train Epoch: 3 [ 25600/60000 (43%)]\tLoss: 0.259933\n",
      "Train Epoch: 3 [ 32000/60000 (53%)]\tLoss: 0.348811\n",
      "Train Epoch: 3 [ 38400/60000 (64%)]\tLoss: 0.294138\n",
      "Train Epoch: 3 [ 44800/60000 (75%)]\tLoss: 0.267879\n",
      "Train Epoch: 3 [ 51200/60000 (85%)]\tLoss: 0.253323\n",
      "Train Epoch: 3 [ 57600/60000 (96%)]\tLoss: 0.161301\n",
      "Test set: Average Loss: 0.2262, Accuracy: 9348/10000 ( 93%)\n",
      "\n",
      "Train Epoch: 4 [ 0/60000 (0%)]\tLoss: 0.170364\n",
      "Train Epoch: 4 [ 6400/60000 (11%)]\tLoss: 0.348305\n",
      "Train Epoch: 4 [ 12800/60000 (21%)]\tLoss: 0.322813\n",
      "Train Epoch: 4 [ 19200/60000 (32%)]\tLoss: 0.297556\n",
      "Train Epoch: 4 [ 25600/60000 (43%)]\tLoss: 0.337265\n",
      "Train Epoch: 4 [ 32000/60000 (53%)]\tLoss: 0.171017\n",
      "Train Epoch: 4 [ 38400/60000 (64%)]\tLoss: 0.155944\n",
      "Train Epoch: 4 [ 44800/60000 (75%)]\tLoss: 0.203424\n",
      "Train Epoch: 4 [ 51200/60000 (85%)]\tLoss: 0.268321\n",
      "Train Epoch: 4 [ 57600/60000 (96%)]\tLoss: 0.112163\n",
      "Test set: Average Loss: 0.1820, Accuracy: 9496/10000 ( 95%)\n",
      "\n",
      "Train Epoch: 5 [ 0/60000 (0%)]\tLoss: 0.251605\n",
      "Train Epoch: 5 [ 6400/60000 (11%)]\tLoss: 0.094498\n",
      "Train Epoch: 5 [ 12800/60000 (21%)]\tLoss: 0.524569\n",
      "Train Epoch: 5 [ 19200/60000 (32%)]\tLoss: 0.166920\n",
      "Train Epoch: 5 [ 25600/60000 (43%)]\tLoss: 0.217405\n",
      "Train Epoch: 5 [ 32000/60000 (53%)]\tLoss: 0.136593\n",
      "Train Epoch: 5 [ 38400/60000 (64%)]\tLoss: 0.096575\n",
      "Train Epoch: 5 [ 44800/60000 (75%)]\tLoss: 0.105415\n",
      "Train Epoch: 5 [ 51200/60000 (85%)]\tLoss: 0.164882\n",
      "Train Epoch: 5 [ 57600/60000 (96%)]\tLoss: 0.128642\n",
      "Test set: Average Loss: 0.1585, Accuracy: 9528/10000 ( 95%)\n",
      "\n",
      "Train Epoch: 6 [ 0/60000 (0%)]\tLoss: 0.119809\n",
      "Train Epoch: 6 [ 6400/60000 (11%)]\tLoss: 0.156763\n",
      "Train Epoch: 6 [ 12800/60000 (21%)]\tLoss: 0.080074\n",
      "Train Epoch: 6 [ 19200/60000 (32%)]\tLoss: 0.111443\n",
      "Train Epoch: 6 [ 25600/60000 (43%)]\tLoss: 0.285515\n",
      "Train Epoch: 6 [ 32000/60000 (53%)]\tLoss: 0.126909\n",
      "Train Epoch: 6 [ 38400/60000 (64%)]\tLoss: 0.192424\n",
      "Train Epoch: 6 [ 44800/60000 (75%)]\tLoss: 0.197985\n",
      "Train Epoch: 6 [ 51200/60000 (85%)]\tLoss: 0.081079\n",
      "Train Epoch: 6 [ 57600/60000 (96%)]\tLoss: 0.096029\n",
      "Test set: Average Loss: 0.1363, Accuracy: 9606/10000 ( 96%)\n",
      "\n",
      "Train Epoch: 7 [ 0/60000 (0%)]\tLoss: 0.060554\n",
      "Train Epoch: 7 [ 6400/60000 (11%)]\tLoss: 0.249385\n",
      "Train Epoch: 7 [ 12800/60000 (21%)]\tLoss: 0.121986\n",
      "Train Epoch: 7 [ 19200/60000 (32%)]\tLoss: 0.192251\n",
      "Train Epoch: 7 [ 25600/60000 (43%)]\tLoss: 0.123450\n",
      "Train Epoch: 7 [ 32000/60000 (53%)]\tLoss: 0.102587\n",
      "Train Epoch: 7 [ 38400/60000 (64%)]\tLoss: 0.084825\n",
      "Train Epoch: 7 [ 44800/60000 (75%)]\tLoss: 0.144135\n",
      "Train Epoch: 7 [ 51200/60000 (85%)]\tLoss: 0.165479\n",
      "Train Epoch: 7 [ 57600/60000 (96%)]\tLoss: 0.086661\n",
      "Test set: Average Loss: 0.1150, Accuracy: 9675/10000 ( 97%)\n",
      "\n",
      "Train Epoch: 8 [ 0/60000 (0%)]\tLoss: 0.204589\n",
      "Train Epoch: 8 [ 6400/60000 (11%)]\tLoss: 0.201648\n",
      "Train Epoch: 8 [ 12800/60000 (21%)]\tLoss: 0.111857\n",
      "Train Epoch: 8 [ 19200/60000 (32%)]\tLoss: 0.419310\n",
      "Train Epoch: 8 [ 25600/60000 (43%)]\tLoss: 0.055882\n",
      "Train Epoch: 8 [ 32000/60000 (53%)]\tLoss: 0.134566\n",
      "Train Epoch: 8 [ 38400/60000 (64%)]\tLoss: 0.137222\n",
      "Train Epoch: 8 [ 44800/60000 (75%)]\tLoss: 0.075693\n",
      "Train Epoch: 8 [ 51200/60000 (85%)]\tLoss: 0.109675\n",
      "Train Epoch: 8 [ 57600/60000 (96%)]\tLoss: 0.131366\n",
      "Test set: Average Loss: 0.1014, Accuracy: 9713/10000 ( 97%)\n",
      "\n",
      "Train Epoch: 9 [ 0/60000 (0%)]\tLoss: 0.210313\n",
      "Train Epoch: 9 [ 6400/60000 (11%)]\tLoss: 0.092651\n",
      "Train Epoch: 9 [ 12800/60000 (21%)]\tLoss: 0.161726\n",
      "Train Epoch: 9 [ 19200/60000 (32%)]\tLoss: 0.076249\n",
      "Train Epoch: 9 [ 25600/60000 (43%)]\tLoss: 0.225806\n",
      "Train Epoch: 9 [ 32000/60000 (53%)]\tLoss: 0.139213\n",
      "Train Epoch: 9 [ 38400/60000 (64%)]\tLoss: 0.055468\n",
      "Train Epoch: 9 [ 44800/60000 (75%)]\tLoss: 0.176695\n",
      "Train Epoch: 9 [ 51200/60000 (85%)]\tLoss: 0.065040\n",
      "Train Epoch: 9 [ 57600/60000 (96%)]\tLoss: 0.153369\n",
      "Test set: Average Loss: 0.0918, Accuracy: 9745/10000 ( 97%)\n",
      "\n",
      "Train Epoch: 10 [ 0/60000 (0%)]\tLoss: 0.075467\n",
      "Train Epoch: 10 [ 6400/60000 (11%)]\tLoss: 0.140909\n",
      "Train Epoch: 10 [ 12800/60000 (21%)]\tLoss: 0.153671\n",
      "Train Epoch: 10 [ 19200/60000 (32%)]\tLoss: 0.088008\n",
      "Train Epoch: 10 [ 25600/60000 (43%)]\tLoss: 0.102320\n",
      "Train Epoch: 10 [ 32000/60000 (53%)]\tLoss: 0.063014\n",
      "Train Epoch: 10 [ 38400/60000 (64%)]\tLoss: 0.098831\n",
      "Train Epoch: 10 [ 44800/60000 (75%)]\tLoss: 0.070782\n",
      "Train Epoch: 10 [ 51200/60000 (85%)]\tLoss: 0.045357\n",
      "Train Epoch: 10 [ 57600/60000 (96%)]\tLoss: 0.060271\n",
      "Test set: Average Loss: 0.0845, Accuracy: 9766/10000 ( 98%)\n",
      "\n"
     ]
    }
   ],
   "source": [
    "for epoch in range(1, epochs+1):\n",
    "    # Train mode\n",
    "    model.train()\n",
    "    for batch_idx, (data, target) in enumerate(train_loader):\n",
    "        data, target = data.to(device), target.to(device)\n",
    "        optimizer.zero_grad()\n",
    "        output = model(data)\n",
    "        loss = F.nll_loss(output, target)\n",
    "        loss.backward()\n",
    "        optimizer.step()\n",
    "        \n",
    "        if batch_idx % log_interval == 0 :\n",
    "            print('Train Epoch: {} [ {}/{} ({:.0f}%)]\\tLoss: {:.6f}'.format(\n",
    "                epoch, batch_idx * len(data), len(train_loader.dataset),\n",
    "                100 * batch_idx / len(train_loader), loss.item()\n",
    "            ))\n",
    "    \n",
    "    # 한 EPOCH에서 학습 후 바로 TEST 진행, TEST는 아래에 과정 있음.\n",
    "    model.eval()\n",
    "\n",
    "    test_loss = 0\n",
    "    correct = 0\n",
    "\n",
    "    with torch.no_grad():\n",
    "        for data, target in test_loader : \n",
    "            data, target = data.to(device), target.to(device)\n",
    "            output = model(data)\n",
    "            test_loss += F.nll_loss(output, target, reduction='sum').item()\n",
    "            pred = output.argmax(dim=1, keepdim = True)\n",
    "            correct += pred.eq(target.view_as(pred)).sum().item()\n",
    "\n",
    "    test_loss /= len(test_loader.dataset)\n",
    "\n",
    "    print('Test set: Average Loss: {:.4f}, Accuracy: {}/{} ( {:.0f}%)\\n'.format(\n",
    "        test_loss, correct, len(test_loader.dataset), 100 * correct / len(test_loader.dataset)))\n"
   ]
  },
  {
   "cell_type": "markdown",
   "metadata": {},
   "source": [
    "# Evaluation\n",
    "- 앞에서 model.train() 모드로 변한 것처럼 평가 할 때는 model.eval()로 설정\n",
    "  - Batch Normalization이나 Drop Out 같은 Layer들을 잠금"
   ]
  },
  {
   "cell_type": "code",
   "execution_count": 21,
   "metadata": {},
   "outputs": [
    {
     "data": {
      "text/plain": [
       "Net(\n",
       "  (conv1): Conv2d(1, 20, kernel_size=(5, 5), stride=(1, 1))\n",
       "  (conv2): Conv2d(20, 50, kernel_size=(5, 5), stride=(1, 1))\n",
       "  (fc1): Linear(in_features=800, out_features=500, bias=True)\n",
       "  (fc2): Linear(in_features=500, out_features=10, bias=True)\n",
       ")"
      ]
     },
     "execution_count": 21,
     "metadata": {},
     "output_type": "execute_result"
    }
   ],
   "source": [
    "model.eval()"
   ]
  },
  {
   "cell_type": "markdown",
   "metadata": {},
   "source": [
    "- autograd engine, 즉 backpropagatin이나 gradient 계산 등을 꺼서 memory usage를 줄이고 속도를 높임"
   ]
  },
  {
   "cell_type": "code",
   "execution_count": 22,
   "metadata": {},
   "outputs": [],
   "source": [
    "test_loss = 0\n",
    "correct = 0\n",
    "\n",
    "with torch.no_grad():\n",
    "    data, target = next(iter(test_loader))\n",
    "    data, target = data.to(device), target.to(device)\n",
    "    output = model(data)\n",
    "    \n",
    "    test_loss += F.nll_loss(output, target, reduction = 'sum').item() \n",
    "    # sum을 해줌으로 batch_size, shape에 관계없이 하나의 scalar로 return하고 이를 더해줌.\n",
    "\n",
    "    pred = output.argmax(dim=1, keepdim = True)\n",
    "    # keepdim을 사용해 차원수를 계속 유지\n",
    "    \n",
    "    correct = pred.eq(target.view_as(pred)).sum().item()"
   ]
  },
  {
   "cell_type": "code",
   "execution_count": 23,
   "metadata": {},
   "outputs": [
    {
     "data": {
      "text/plain": [
       "3.142096757888794"
      ]
     },
     "execution_count": 23,
     "metadata": {},
     "output_type": "execute_result"
    }
   ],
   "source": [
    "test_loss"
   ]
  },
  {
   "cell_type": "code",
   "execution_count": 24,
   "metadata": {},
   "outputs": [
    {
     "data": {
      "text/plain": [
       "torch.Size([64, 10])"
      ]
     },
     "execution_count": 24,
     "metadata": {},
     "output_type": "execute_result"
    }
   ],
   "source": [
    "# output은 softmax를 거친 아직 argmax에 들어가지 않은 값이기에 확률값으로 출력됨. \n",
    "output.shape"
   ]
  },
  {
   "cell_type": "code",
   "execution_count": 25,
   "metadata": {},
   "outputs": [
    {
     "data": {
      "text/plain": [
       "(torch.Size([64, 1]), torch.Size([64, 1]))"
      ]
     },
     "execution_count": 25,
     "metadata": {},
     "output_type": "execute_result"
    }
   ],
   "source": [
    "# pred와 target의 shape을 맞춰 비교, 동일하다는 것을 확인 가능\n",
    "pred.shape, target.view_as(pred).shape"
   ]
  },
  {
   "cell_type": "code",
   "execution_count": 26,
   "metadata": {},
   "outputs": [
    {
     "data": {
      "text/plain": [
       "0.984375"
      ]
     },
     "execution_count": 26,
     "metadata": {},
     "output_type": "execute_result"
    }
   ],
   "source": [
    "pred.eq(target.view_as(pred)).sum().item() / 64 # 몇 퍼센트가 동일하게 예측이 되었나?"
   ]
  },
  {
   "cell_type": "code",
   "execution_count": 27,
   "metadata": {},
   "outputs": [],
   "source": [
    "test_loss /= len(test_loader.dataset)"
   ]
  },
  {
   "cell_type": "code",
   "execution_count": 28,
   "metadata": {},
   "outputs": [
    {
     "data": {
      "text/plain": [
       "0.0003142096757888794"
      ]
     },
     "execution_count": 28,
     "metadata": {},
     "output_type": "execute_result"
    }
   ],
   "source": [
    "test_loss"
   ]
  },
  {
   "cell_type": "markdown",
   "metadata": {},
   "source": [
    "# Evaluation 정리"
   ]
  },
  {
   "cell_type": "code",
   "execution_count": 29,
   "metadata": {},
   "outputs": [
    {
     "name": "stdout",
     "output_type": "stream",
     "text": [
      "Test set: Average Loss: 0.0845, Accuracy: 9766/10000 ( 98%)\n",
      "\n"
     ]
    }
   ],
   "source": [
    "model.eval()\n",
    "\n",
    "test_loss = 0\n",
    "correct = 0\n",
    "\n",
    "with torch.no_grad():\n",
    "    for data, target in test_loader : \n",
    "        data, target = data.to(device), target.to(device)\n",
    "        output = model(data)\n",
    "        test_loss += F.nll_loss(output, target, reduction='sum').item()\n",
    "        pred = output.argmax(dim=1, keepdim = True)\n",
    "        correct += pred.eq(target.view_as(pred)).sum().item()\n",
    "        \n",
    "test_loss /= len(test_loader.dataset)\n",
    "\n",
    "print('Test set: Average Loss: {:.4f}, Accuracy: {}/{} ( {:.0f}%)\\n'.format(\n",
    "    test_loss, correct, len(test_loader.dataset), 100 * correct / len(test_loader.dataset)))"
   ]
  },
  {
   "cell_type": "code",
   "execution_count": null,
   "metadata": {},
   "outputs": [],
   "source": []
  }
 ],
 "metadata": {
  "interpreter": {
   "hash": "273661b1b99053f692c4707038b66415ddb31f26f7f20805363482abd8add111"
  },
  "kernelspec": {
   "display_name": "Python 3.9.7 ('base')",
   "language": "python",
   "name": "python3"
  },
  "language_info": {
   "codemirror_mode": {
    "name": "ipython",
    "version": 3
   },
   "file_extension": ".py",
   "mimetype": "text/x-python",
   "name": "python",
   "nbconvert_exporter": "python",
   "pygments_lexer": "ipython3",
   "version": "3.9.7"
  },
  "orig_nbformat": 4
 },
 "nbformat": 4,
 "nbformat_minor": 2
}
