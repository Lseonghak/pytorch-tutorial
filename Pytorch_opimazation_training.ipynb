{
 "cells": [
  {
   "cell_type": "markdown",
   "metadata": {},
   "source": [
    "# PyTorch: Optimization & Training"
   ]
  },
  {
   "cell_type": "code",
   "execution_count": 1,
   "metadata": {},
   "outputs": [],
   "source": [
    "import torch\n",
    "import torch.nn as nn\n",
    "import torch.nn.functional as F\n",
    "import torch.optim as optim\n",
    "from torchvision import datasets, transforms\n",
    "\n",
    "import numpy as np"
   ]
  },
  {
   "cell_type": "code",
   "execution_count": 2,
   "metadata": {},
   "outputs": [],
   "source": [
    "seed            = 1 # 난수 고정\n",
    "batch_size      = 64\n",
    "test_batch_size = 64\n",
    "\n",
    "no_cuda = False"
   ]
  },
  {
   "cell_type": "code",
   "execution_count": 3,
   "metadata": {},
   "outputs": [],
   "source": [
    "use_cuda    = not no_cuda and torch.cuda.is_available()\n",
    "device      = torch.device(\"cuda\" if use_cuda else \"cpu\")"
   ]
  },
  {
   "cell_type": "markdown",
   "metadata": {},
   "source": [
    "# Preprocess"
   ]
  },
  {
   "cell_type": "code",
   "execution_count": 4,
   "metadata": {},
   "outputs": [],
   "source": [
    "torch.manual_seed(seed)\n",
    "\n",
    "train_loader = torch.utils.data.DataLoader(\n",
    "    datasets.MNIST('dataset', train=True, download=True,\n",
    "    transform=transforms.Compose([transforms.ToTensor(),\n",
    "    transforms.Normalize((0.1307,), (0.3081,))\n",
    "    ])),\n",
    "    batch_size= batch_size, shuffle= True)\n",
    "\n",
    "test_loader = torch.utils.data.DataLoader(\n",
    "    datasets.MNIST('dataset', train=False,\n",
    "    transform=transforms.Compose([transforms.ToTensor(), transforms.Normalize((0.1307,),(0.3081,))\n",
    "    ])),\n",
    "    batch_size=test_batch_size, shuffle=True)"
   ]
  },
  {
   "cell_type": "markdown",
   "metadata": {},
   "source": [
    "# Model"
   ]
  },
  {
   "cell_type": "code",
   "execution_count": 5,
   "metadata": {},
   "outputs": [],
   "source": [
    "class Net(nn.Module):\n",
    "    def __init__(self):\n",
    "        super(Net, self).__init__()\n",
    "        self.conv1 = nn.Conv2d(1, 20, 5, 1)\n",
    "        self.conv2 = nn.Conv2d(20, 50, 5, 1)\n",
    "        self.fc1 = nn.Linear(4*4*50, 500)\n",
    "        self.fc2 = nn.Linear(500, 10)\n",
    "\n",
    "    def forward(self, x):\n",
    "        x = F.relu(self.conv1(x))\n",
    "        x = F.max_pool2d(x, 2, 2)\n",
    "        x = F.relu(self.conv2(x))\n",
    "        x = F.max_pool2d(x, 2, 2)\n",
    "        x = x.view(-1, 4*4*50)\n",
    "        x = F.relu(self.fc1(x))\n",
    "        x = self.fc2(x)\n",
    "        return F.log_softmax(x, dim=1)\n"
   ]
  },
  {
   "cell_type": "markdown",
   "metadata": {},
   "source": [
    "# Optimization"
   ]
  },
  {
   "cell_type": "code",
   "execution_count": 6,
   "metadata": {},
   "outputs": [],
   "source": [
    "model = Net().to(device)"
   ]
  },
  {
   "cell_type": "code",
   "execution_count": 7,
   "metadata": {},
   "outputs": [],
   "source": [
    "optimizer = optim.SGD(model.parameters(), lr=0.001, momentum=0.5)"
   ]
  },
  {
   "cell_type": "markdown",
   "metadata": {},
   "source": [
    "# Before Training\n",
    "- 학습하기 전에 Model이 Train할 수 있도록 Train Mode로 변환\n",
    "    - Convolution 또는 Linear 뿐만 아니라, DropOut과 추후에 배우게 될 Batch Normalization과 같이 parameter를 가진 Layer들도 학습하기 위해 준비"
   ]
  },
  {
   "cell_type": "code",
   "execution_count": 8,
   "metadata": {},
   "outputs": [
    {
     "name": "stdout",
     "output_type": "stream",
     "text": [
      "torch.Size([20, 1, 5, 5])\n",
      "torch.Size([20])\n",
      "torch.Size([50, 20, 5, 5])\n",
      "torch.Size([50])\n",
      "torch.Size([500, 800])\n",
      "torch.Size([500])\n",
      "torch.Size([10, 500])\n",
      "torch.Size([10])\n"
     ]
    }
   ],
   "source": [
    "# parameter shape 확인\n",
    "params = list(model.parameters())\n",
    "for i in range(8):\n",
    "    print(params[i].size())"
   ]
  },
  {
   "cell_type": "code",
   "execution_count": 9,
   "metadata": {},
   "outputs": [
    {
     "data": {
      "text/plain": [
       "Net(\n",
       "  (conv1): Conv2d(1, 20, kernel_size=(5, 5), stride=(1, 1))\n",
       "  (conv2): Conv2d(20, 50, kernel_size=(5, 5), stride=(1, 1))\n",
       "  (fc1): Linear(in_features=800, out_features=500, bias=True)\n",
       "  (fc2): Linear(in_features=500, out_features=10, bias=True)\n",
       ")"
      ]
     },
     "execution_count": 9,
     "metadata": {},
     "output_type": "execute_result"
    }
   ],
   "source": [
    "model.train()"
   ]
  },
  {
   "cell_type": "code",
   "execution_count": 10,
   "metadata": {},
   "outputs": [],
   "source": [
    "data, target = next(iter(train_loader))"
   ]
  },
  {
   "cell_type": "code",
   "execution_count": 11,
   "metadata": {},
   "outputs": [
    {
     "data": {
      "text/plain": [
       "(torch.Size([64, 1, 28, 28]), torch.Size([64]))"
      ]
     },
     "execution_count": 11,
     "metadata": {},
     "output_type": "execute_result"
    }
   ],
   "source": [
    "data.shape, target.shape"
   ]
  },
  {
   "cell_type": "markdown",
   "metadata": {},
   "source": [
    "- 추출한 Batch 데이터를 cpu 또는 gpu와 같은 device에 compile"
   ]
  },
  {
   "cell_type": "code",
   "execution_count": 13,
   "metadata": {},
   "outputs": [],
   "source": [
    "data, target = data.to(device), target.to(device)"
   ]
  },
  {
   "cell_type": "code",
   "execution_count": 14,
   "metadata": {},
   "outputs": [
    {
     "data": {
      "text/plain": [
       "(torch.Size([64, 1, 28, 28]), torch.Size([64]))"
      ]
     },
     "execution_count": 14,
     "metadata": {},
     "output_type": "execute_result"
    }
   ],
   "source": [
    "data.shape, target.shape"
   ]
  },
  {
   "cell_type": "markdown",
   "metadata": {},
   "source": [
    "- gradients를 clear해서 새로운 최적화 값을 찾기 위해 준비"
   ]
  },
  {
   "cell_type": "code",
   "execution_count": 15,
   "metadata": {},
   "outputs": [
    {
     "data": {
      "text/plain": [
       "<bound method Optimizer.zero_grad of SGD (\n",
       "Parameter Group 0\n",
       "    dampening: 0\n",
       "    lr: 0.001\n",
       "    maximize: False\n",
       "    momentum: 0.5\n",
       "    nesterov: False\n",
       "    weight_decay: 0\n",
       ")>"
      ]
     },
     "execution_count": 15,
     "metadata": {},
     "output_type": "execute_result"
    }
   ],
   "source": [
    "optimizer.zero_grad"
   ]
  },
  {
   "cell_type": "markdown",
   "metadata": {},
   "source": [
    "- 준비한 데이터를 model에 input으로 넣어 output을 얻음"
   ]
  },
  {
   "cell_type": "code",
   "execution_count": 16,
   "metadata": {},
   "outputs": [],
   "source": [
    "output = model(data)"
   ]
  },
  {
   "cell_type": "markdown",
   "metadata": {},
   "source": [
    "- Model에서 예측한 결과를 Loss Function에 넣음\n",
    "  - 여기 예제에서는 Negative Log-Likelihood Loss 라는 Loss Function을 사용\n"
   ]
  },
  {
   "cell_type": "code",
   "execution_count": 17,
   "metadata": {},
   "outputs": [],
   "source": [
    "loss = F.nll_loss(output, target)"
   ]
  },
  {
   "cell_type": "markdown",
   "metadata": {},
   "source": [
    "- Back Propagation을 통해 Gradients를 계산"
   ]
  },
  {
   "cell_type": "code",
   "execution_count": 18,
   "metadata": {},
   "outputs": [],
   "source": [
    "loss.backward()"
   ]
  },
  {
   "cell_type": "markdown",
   "metadata": {},
   "source": [
    "- 계산된 Gradients는 계산된 걸로 끝이 아니라 Parameter에 Update"
   ]
  },
  {
   "cell_type": "code",
   "execution_count": 19,
   "metadata": {},
   "outputs": [],
   "source": [
    "optimizer.step()"
   ]
  },
  {
   "cell_type": "markdown",
   "metadata": {},
   "source": [
    "# Start Training\n",
    "위의 최적화 과정을 반복하여 학습 시작"
   ]
  },
  {
   "cell_type": "code",
   "execution_count": 31,
   "metadata": {},
   "outputs": [],
   "source": [
    "epochs = 10\n",
    "log_interval = 100"
   ]
  },
  {
   "cell_type": "code",
   "execution_count": 32,
   "metadata": {},
   "outputs": [
    {
     "name": "stdout",
     "output_type": "stream",
     "text": [
      "Train Epoch: 1 [ 0/60000 (0%)]\tLoss: 0.467734\n",
      "Train Epoch: 1 [ 6400/60000 (11%)]\tLoss: 0.356023\n",
      "Train Epoch: 1 [ 12800/60000 (21%)]\tLoss: 0.604275\n",
      "Train Epoch: 1 [ 19200/60000 (32%)]\tLoss: 0.530268\n",
      "Train Epoch: 1 [ 25600/60000 (43%)]\tLoss: 0.367448\n",
      "Train Epoch: 1 [ 32000/60000 (53%)]\tLoss: 0.413603\n",
      "Train Epoch: 1 [ 38400/60000 (64%)]\tLoss: 0.415129\n",
      "Train Epoch: 1 [ 44800/60000 (75%)]\tLoss: 0.367668\n",
      "Train Epoch: 1 [ 51200/60000 (85%)]\tLoss: 0.338493\n",
      "Train Epoch: 1 [ 57600/60000 (96%)]\tLoss: 0.216158\n",
      "Test set: Average Loss: 0.2971, Accuracy: 9134/10000 ( 91%)\n",
      "\n",
      "Train Epoch: 2 [ 0/60000 (0%)]\tLoss: 0.252886\n",
      "Train Epoch: 2 [ 6400/60000 (11%)]\tLoss: 0.439195\n",
      "Train Epoch: 2 [ 12800/60000 (21%)]\tLoss: 0.409176\n",
      "Train Epoch: 2 [ 19200/60000 (32%)]\tLoss: 0.388152\n",
      "Train Epoch: 2 [ 25600/60000 (43%)]\tLoss: 0.398347\n",
      "Train Epoch: 2 [ 32000/60000 (53%)]\tLoss: 0.212522\n",
      "Train Epoch: 2 [ 38400/60000 (64%)]\tLoss: 0.195206\n",
      "Train Epoch: 2 [ 44800/60000 (75%)]\tLoss: 0.274665\n",
      "Train Epoch: 2 [ 51200/60000 (85%)]\tLoss: 0.359743\n",
      "Train Epoch: 2 [ 57600/60000 (96%)]\tLoss: 0.140320\n",
      "Test set: Average Loss: 0.2266, Accuracy: 9336/10000 ( 93%)\n",
      "\n",
      "Train Epoch: 3 [ 0/60000 (0%)]\tLoss: 0.303775\n",
      "Train Epoch: 3 [ 6400/60000 (11%)]\tLoss: 0.117618\n",
      "Train Epoch: 3 [ 12800/60000 (21%)]\tLoss: 0.559174\n",
      "Train Epoch: 3 [ 19200/60000 (32%)]\tLoss: 0.208837\n",
      "Train Epoch: 3 [ 25600/60000 (43%)]\tLoss: 0.270663\n",
      "Train Epoch: 3 [ 32000/60000 (53%)]\tLoss: 0.184311\n",
      "Train Epoch: 3 [ 38400/60000 (64%)]\tLoss: 0.140973\n",
      "Train Epoch: 3 [ 44800/60000 (75%)]\tLoss: 0.132692\n",
      "Train Epoch: 3 [ 51200/60000 (85%)]\tLoss: 0.193187\n",
      "Train Epoch: 3 [ 57600/60000 (96%)]\tLoss: 0.154449\n",
      "Test set: Average Loss: 0.1887, Accuracy: 9451/10000 ( 95%)\n",
      "\n",
      "Train Epoch: 4 [ 0/60000 (0%)]\tLoss: 0.159466\n",
      "Train Epoch: 4 [ 6400/60000 (11%)]\tLoss: 0.192653\n",
      "Train Epoch: 4 [ 12800/60000 (21%)]\tLoss: 0.093288\n",
      "Train Epoch: 4 [ 19200/60000 (32%)]\tLoss: 0.135005\n",
      "Train Epoch: 4 [ 25600/60000 (43%)]\tLoss: 0.316444\n",
      "Train Epoch: 4 [ 32000/60000 (53%)]\tLoss: 0.154341\n",
      "Train Epoch: 4 [ 38400/60000 (64%)]\tLoss: 0.225128\n",
      "Train Epoch: 4 [ 44800/60000 (75%)]\tLoss: 0.222149\n",
      "Train Epoch: 4 [ 51200/60000 (85%)]\tLoss: 0.103730\n",
      "Train Epoch: 4 [ 57600/60000 (96%)]\tLoss: 0.120382\n",
      "Test set: Average Loss: 0.1584, Accuracy: 9538/10000 ( 95%)\n",
      "\n",
      "Train Epoch: 5 [ 0/60000 (0%)]\tLoss: 0.071503\n",
      "Train Epoch: 5 [ 6400/60000 (11%)]\tLoss: 0.288799\n",
      "Train Epoch: 5 [ 12800/60000 (21%)]\tLoss: 0.137436\n",
      "Train Epoch: 5 [ 19200/60000 (32%)]\tLoss: 0.241427\n",
      "Train Epoch: 5 [ 25600/60000 (43%)]\tLoss: 0.132758\n",
      "Train Epoch: 5 [ 32000/60000 (53%)]\tLoss: 0.125737\n",
      "Train Epoch: 5 [ 38400/60000 (64%)]\tLoss: 0.103387\n",
      "Train Epoch: 5 [ 44800/60000 (75%)]\tLoss: 0.163009\n",
      "Train Epoch: 5 [ 51200/60000 (85%)]\tLoss: 0.193885\n",
      "Train Epoch: 5 [ 57600/60000 (96%)]\tLoss: 0.111687\n",
      "Test set: Average Loss: 0.1307, Accuracy: 9626/10000 ( 96%)\n",
      "\n",
      "Train Epoch: 6 [ 0/60000 (0%)]\tLoss: 0.239423\n",
      "Train Epoch: 6 [ 6400/60000 (11%)]\tLoss: 0.214121\n",
      "Train Epoch: 6 [ 12800/60000 (21%)]\tLoss: 0.118617\n",
      "Train Epoch: 6 [ 19200/60000 (32%)]\tLoss: 0.435545\n",
      "Train Epoch: 6 [ 25600/60000 (43%)]\tLoss: 0.066306\n",
      "Train Epoch: 6 [ 32000/60000 (53%)]\tLoss: 0.151904\n",
      "Train Epoch: 6 [ 38400/60000 (64%)]\tLoss: 0.136617\n",
      "Train Epoch: 6 [ 44800/60000 (75%)]\tLoss: 0.087972\n",
      "Train Epoch: 6 [ 51200/60000 (85%)]\tLoss: 0.117782\n",
      "Train Epoch: 6 [ 57600/60000 (96%)]\tLoss: 0.151509\n",
      "Test set: Average Loss: 0.1132, Accuracy: 9679/10000 ( 97%)\n",
      "\n",
      "Train Epoch: 7 [ 0/60000 (0%)]\tLoss: 0.223719\n",
      "Train Epoch: 7 [ 6400/60000 (11%)]\tLoss: 0.106051\n",
      "Train Epoch: 7 [ 12800/60000 (21%)]\tLoss: 0.174903\n",
      "Train Epoch: 7 [ 19200/60000 (32%)]\tLoss: 0.091738\n",
      "Train Epoch: 7 [ 25600/60000 (43%)]\tLoss: 0.238548\n",
      "Train Epoch: 7 [ 32000/60000 (53%)]\tLoss: 0.142965\n",
      "Train Epoch: 7 [ 38400/60000 (64%)]\tLoss: 0.060643\n",
      "Train Epoch: 7 [ 44800/60000 (75%)]\tLoss: 0.188480\n",
      "Train Epoch: 7 [ 51200/60000 (85%)]\tLoss: 0.070813\n",
      "Train Epoch: 7 [ 57600/60000 (96%)]\tLoss: 0.166230\n",
      "Test set: Average Loss: 0.1009, Accuracy: 9721/10000 ( 97%)\n",
      "\n",
      "Train Epoch: 8 [ 0/60000 (0%)]\tLoss: 0.083596\n",
      "Train Epoch: 8 [ 6400/60000 (11%)]\tLoss: 0.151284\n",
      "Train Epoch: 8 [ 12800/60000 (21%)]\tLoss: 0.167130\n",
      "Train Epoch: 8 [ 19200/60000 (32%)]\tLoss: 0.093513\n",
      "Train Epoch: 8 [ 25600/60000 (43%)]\tLoss: 0.112414\n",
      "Train Epoch: 8 [ 32000/60000 (53%)]\tLoss: 0.070436\n",
      "Train Epoch: 8 [ 38400/60000 (64%)]\tLoss: 0.109981\n",
      "Train Epoch: 8 [ 44800/60000 (75%)]\tLoss: 0.075245\n",
      "Train Epoch: 8 [ 51200/60000 (85%)]\tLoss: 0.050382\n",
      "Train Epoch: 8 [ 57600/60000 (96%)]\tLoss: 0.069158\n",
      "Test set: Average Loss: 0.0918, Accuracy: 9749/10000 ( 97%)\n",
      "\n",
      "Train Epoch: 9 [ 0/60000 (0%)]\tLoss: 0.089506\n",
      "Train Epoch: 9 [ 6400/60000 (11%)]\tLoss: 0.030281\n",
      "Train Epoch: 9 [ 12800/60000 (21%)]\tLoss: 0.045776\n",
      "Train Epoch: 9 [ 19200/60000 (32%)]\tLoss: 0.064712\n",
      "Train Epoch: 9 [ 25600/60000 (43%)]\tLoss: 0.068740\n",
      "Train Epoch: 9 [ 32000/60000 (53%)]\tLoss: 0.199206\n",
      "Train Epoch: 9 [ 38400/60000 (64%)]\tLoss: 0.028255\n",
      "Train Epoch: 9 [ 44800/60000 (75%)]\tLoss: 0.081299\n",
      "Train Epoch: 9 [ 51200/60000 (85%)]\tLoss: 0.065334\n",
      "Train Epoch: 9 [ 57600/60000 (96%)]\tLoss: 0.085356\n",
      "Test set: Average Loss: 0.0918, Accuracy: 9736/10000 ( 97%)\n",
      "\n",
      "Train Epoch: 10 [ 0/60000 (0%)]\tLoss: 0.041949\n",
      "Train Epoch: 10 [ 6400/60000 (11%)]\tLoss: 0.090050\n",
      "Train Epoch: 10 [ 12800/60000 (21%)]\tLoss: 0.091105\n",
      "Train Epoch: 10 [ 19200/60000 (32%)]\tLoss: 0.057635\n",
      "Train Epoch: 10 [ 25600/60000 (43%)]\tLoss: 0.086076\n",
      "Train Epoch: 10 [ 32000/60000 (53%)]\tLoss: 0.060020\n",
      "Train Epoch: 10 [ 38400/60000 (64%)]\tLoss: 0.042916\n",
      "Train Epoch: 10 [ 44800/60000 (75%)]\tLoss: 0.120001\n",
      "Train Epoch: 10 [ 51200/60000 (85%)]\tLoss: 0.050614\n",
      "Train Epoch: 10 [ 57600/60000 (96%)]\tLoss: 0.127610\n",
      "Test set: Average Loss: 0.0791, Accuracy: 9782/10000 ( 98%)\n",
      "\n"
     ]
    }
   ],
   "source": [
    "for epoch in range(1, epochs+1):\n",
    "    # Train mode\n",
    "    model.train()\n",
    "    for batch_idx, (data, target) in enumerate(train_loader):\n",
    "        data, target = data.to(device), target.to(device)\n",
    "        optimizer.zero_grad()\n",
    "        output = model(data)\n",
    "        loss = F.nll_loss(output, target)\n",
    "        loss.backward()\n",
    "        optimizer.step()\n",
    "        \n",
    "        if batch_idx % log_interval == 0 :\n",
    "            print('Train Epoch: {} [ {}/{} ({:.0f}%)]\\tLoss: {:.6f}'.format(\n",
    "                epoch, batch_idx * len(data), len(train_loader.dataset),\n",
    "                100 * batch_idx / len(train_loader), loss.item()\n",
    "            ))\n",
    "    \n",
    "    # 한 EPOCH에서 학습 후 바로 TEST 진행, TEST는 아래에 과정 있음.\n",
    "    model.eval()\n",
    "\n",
    "    test_loss = 0\n",
    "    correct = 0\n",
    "\n",
    "    with torch.no_grad():\n",
    "        for data, target in test_loader : \n",
    "            data, target = data.to(device), target.to(device)\n",
    "            output = model(data)\n",
    "            test_loss += F.nll_loss(output, target, reduction='sum').item()\n",
    "            pred = output.argmax(dim=1, keepdim = True)\n",
    "            correct += pred.eq(target.view_as(pred)).sum().item()\n",
    "\n",
    "    test_loss /= len(test_loader.dataset)\n",
    "\n",
    "    print('Test set: Average Loss: {:.4f}, Accuracy: {}/{} ( {:.0f}%)\\n'.format(\n",
    "        test_loss, correct, len(test_loader.dataset), 100 * correct / len(test_loader.dataset)))\n"
   ]
  },
  {
   "cell_type": "markdown",
   "metadata": {},
   "source": [
    "# Evaluation\n",
    "- 앞에서 model.train() 모드로 변한 것처럼 평가 할 때는 model.eval()로 설정\n",
    "  - Batch Normalization이나 Drop Out 같은 Layer들을 잠금"
   ]
  },
  {
   "cell_type": "code",
   "execution_count": 33,
   "metadata": {},
   "outputs": [
    {
     "data": {
      "text/plain": [
       "Net(\n",
       "  (conv1): Conv2d(1, 20, kernel_size=(5, 5), stride=(1, 1))\n",
       "  (conv2): Conv2d(20, 50, kernel_size=(5, 5), stride=(1, 1))\n",
       "  (fc1): Linear(in_features=800, out_features=500, bias=True)\n",
       "  (fc2): Linear(in_features=500, out_features=10, bias=True)\n",
       ")"
      ]
     },
     "execution_count": 33,
     "metadata": {},
     "output_type": "execute_result"
    }
   ],
   "source": [
    "model.eval()"
   ]
  },
  {
   "cell_type": "markdown",
   "metadata": {},
   "source": [
    "- autograd engine, 즉 backpropagatin이나 gradient 계산 등을 꺼서 memory usage를 줄이고 속도를 높임"
   ]
  },
  {
   "cell_type": "code",
   "execution_count": 34,
   "metadata": {},
   "outputs": [],
   "source": [
    "test_loss = 0\n",
    "correct = 0\n",
    "\n",
    "with torch.no_grad():\n",
    "    data, target = next(iter(test_loader))\n",
    "    data, target = data.to(device), target.to(device)\n",
    "    output = model(data)\n",
    "    \n",
    "    test_loss += F.nll_loss(output, target, reduction = 'sum').item() \n",
    "    # sum을 해줌으로 batch_size, shape에 관계없이 하나의 scalar로 return하고 이를 더해줌.\n",
    "\n",
    "    pred = output.argmax(dim=1, keepdim = True)\n",
    "    # keepdim을 사용해 차원수를 계속 유지\n",
    "    \n",
    "    correct = pred.eq(target.view_as(pred)).sum().item()"
   ]
  },
  {
   "cell_type": "code",
   "execution_count": 35,
   "metadata": {},
   "outputs": [
    {
     "data": {
      "text/plain": [
       "2.858043670654297"
      ]
     },
     "execution_count": 35,
     "metadata": {},
     "output_type": "execute_result"
    }
   ],
   "source": [
    "test_loss"
   ]
  },
  {
   "cell_type": "code",
   "execution_count": 36,
   "metadata": {},
   "outputs": [
    {
     "data": {
      "text/plain": [
       "torch.Size([64, 10])"
      ]
     },
     "execution_count": 36,
     "metadata": {},
     "output_type": "execute_result"
    }
   ],
   "source": [
    "# output은 softmax를 거친 아직 argmax에 들어가지 않은 값이기에 확률값으로 출력됨. \n",
    "output.shape"
   ]
  },
  {
   "cell_type": "code",
   "execution_count": 37,
   "metadata": {},
   "outputs": [
    {
     "data": {
      "text/plain": [
       "(torch.Size([64, 1]), torch.Size([64, 1]))"
      ]
     },
     "execution_count": 37,
     "metadata": {},
     "output_type": "execute_result"
    }
   ],
   "source": [
    "# pred와 target의 shape을 맞춰 비교, 동일하다는 것을 확인 가능\n",
    "pred.shape, target.view_as(pred).shape"
   ]
  },
  {
   "cell_type": "code",
   "execution_count": 38,
   "metadata": {},
   "outputs": [
    {
     "data": {
      "text/plain": [
       "1.0"
      ]
     },
     "execution_count": 38,
     "metadata": {},
     "output_type": "execute_result"
    }
   ],
   "source": [
    "pred.eq(target.view_as(pred)).sum().item() / 64 # 몇 퍼센트가 동일하게 예측이 되었나?"
   ]
  },
  {
   "cell_type": "code",
   "execution_count": 39,
   "metadata": {},
   "outputs": [],
   "source": [
    "test_loss /= len(test_loader.dataset)"
   ]
  },
  {
   "cell_type": "code",
   "execution_count": 40,
   "metadata": {},
   "outputs": [
    {
     "data": {
      "text/plain": [
       "0.00028580436706542966"
      ]
     },
     "execution_count": 40,
     "metadata": {},
     "output_type": "execute_result"
    }
   ],
   "source": [
    "test_loss"
   ]
  },
  {
   "cell_type": "markdown",
   "metadata": {},
   "source": [
    "# Evaluation 정리"
   ]
  },
  {
   "cell_type": "code",
   "execution_count": 41,
   "metadata": {},
   "outputs": [
    {
     "name": "stdout",
     "output_type": "stream",
     "text": [
      "Test set: Average Loss: 0.0791, Accuracy: 9782/10000 ( 98%)\n",
      "\n"
     ]
    }
   ],
   "source": [
    "model.eval()\n",
    "\n",
    "test_loss = 0\n",
    "correct = 0\n",
    "\n",
    "with torch.no_grad():\n",
    "    for data, target in test_loader : \n",
    "        data, target = data.to(device), target.to(device)\n",
    "        output = model(data)\n",
    "        test_loss += F.nll_loss(output, target, reduction='sum').item()\n",
    "        pred = output.argmax(dim=1, keepdim = True)\n",
    "        correct += pred.eq(target.view_as(pred)).sum().item()\n",
    "        \n",
    "test_loss /= len(test_loader.dataset)\n",
    "\n",
    "print('Test set: Average Loss: {:.4f}, Accuracy: {}/{} ( {:.0f}%)\\n'.format(\n",
    "    test_loss, correct, len(test_loader.dataset), 100 * correct / len(test_loader.dataset)))"
   ]
  },
  {
   "cell_type": "code",
   "execution_count": null,
   "metadata": {},
   "outputs": [],
   "source": []
  }
 ],
 "metadata": {
  "interpreter": {
   "hash": "273661b1b99053f692c4707038b66415ddb31f26f7f20805363482abd8add111"
  },
  "kernelspec": {
   "display_name": "Python 3.9.7 ('base')",
   "language": "python",
   "name": "python3"
  },
  "language_info": {
   "codemirror_mode": {
    "name": "ipython",
    "version": 3
   },
   "file_extension": ".py",
   "mimetype": "text/x-python",
   "name": "python",
   "nbconvert_exporter": "python",
   "pygments_lexer": "ipython3",
   "version": "3.9.7"
  },
  "orig_nbformat": 4
 },
 "nbformat": 4,
 "nbformat_minor": 2
}
